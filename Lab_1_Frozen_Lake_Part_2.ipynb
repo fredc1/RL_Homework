{
  "cells": [
    {
      "cell_type": "markdown",
      "id": "auburn-pittsburgh",
      "metadata": {
        "id": "auburn-pittsburgh"
      },
      "source": [
        "# Lab 1 - FrozenLake MDP: Part 2 \n",
        "# Assignment\n",
        "\n",
        "- In this assignment you will learn how to tackle problems with limited state spaces.\n",
        "- In particular we consider the FrozenLake MDP problem.\n",
        "\n",
        "# Outline\n",
        "\n",
        "- Part 0 introduces us to [gym](https://gymnasium.farama.org/), an environment that allows us to test our reinforcement learning algorithms in various problems\n",
        "- In Part 1, you implemented a policy iteration algorithm (in previous homework HW1)\n",
        "- In Part 2, you will implement Q-Learning and SARSA (This homework HW2) \n",
        "\n",
        "# Deliverable\n",
        "\n",
        "Regarding the Lab:\n",
        "\n",
        "- Make sure your code runs from top to bottom without any errors.\n",
        "- Your submitted Notebook must contain saved outputs."
      ]
    },
    {
      "cell_type": "markdown",
      "id": "medium-dancing",
      "metadata": {
        "id": "medium-dancing"
      },
      "source": [
        "# Recall: FrozenLake-v1 environment in Gym\n",
        "- We look [FrozenLake-v1 environment](https://gymnasium.farama.org/environments/toy_text/frozen_lake/) in gym. \n",
        "- You don't need to write any code for this part\n",
        "- you should still understand the code to help you solve Part 2\n"
      ]
    },
    {
      "cell_type": "code",
      "execution_count": 1,
      "id": "necessary-character",
      "metadata": {
        "colab": {
          "base_uri": "https://localhost:8080/"
        },
        "id": "necessary-character",
        "outputId": "2558be28-e582-4f7e-b4c9-0a74180b369a"
      },
      "outputs": [],
      "source": [
        "import os\n",
        "# You will need numpy and gym. You can try running the following lines to install them\n",
        "# The assignment is tested on Python3.8 so in case you are having installation issues you might \n",
        "# want to try installing that version. \n",
        "\n",
        "# !{os.sys.executable} -m pip install numpy\n",
        "# !{os.sys.executable} -m pip install gymnasium\n",
        "# !{os.sys.executable} -m pip install Pillow\n",
        "# !{os.sys.executable} -m pip install ipython\n",
        "# !{os.sys.executable} -m pip install pygame\n",
        "\n",
        "import gymnasium as gym\n",
        "import numpy as np\n",
        "from PIL import Image\n",
        "from IPython.display import display"
      ]
    },
    {
      "cell_type": "code",
      "execution_count": 2,
      "id": "considerable-swing",
      "metadata": {
        "colab": {
          "base_uri": "https://localhost:8080/"
        },
        "id": "considerable-swing",
        "outputId": "9c6e68e1-6b7e-4ad2-9192-cef923333b05"
      },
      "outputs": [
        {
          "name": "stdout",
          "output_type": "stream",
          "text": [
            "Number of States 16, Number of Actions 4\n",
            "Reward range (0, 1)\n"
          ]
        }
      ],
      "source": [
        "# Import the environment we will use in this assignment\n",
        "env=gym.make('FrozenLake-v1',is_slippery=True, render_mode=\"rgb_array\")\n",
        "\n",
        "# Note: If you have installed the newest gym version, FrozenLake-v0 might not be available. In this case, instead of env=gym.make('FrozenLake-v0') you can use:\n",
        "# env=gym.make('FrozenLake-v1',is_slippery=True)\n",
        "\n",
        "# Show the model\n",
        "print(f\"Number of States {env.observation_space.n}, Number of Actions {env.action_space.n}\")\n",
        "print(f\"Reward range {env.reward_range}\")"
      ]
    },
    {
      "cell_type": "code",
      "execution_count": 3,
      "id": "71L4uVanjIaZ",
      "metadata": {
        "colab": {
          "base_uri": "https://localhost:8080/"
        },
        "id": "71L4uVanjIaZ",
        "outputId": "6be24ace-0b2c-4428-9fed-31b5f2811657"
      },
      "outputs": [
        {
          "data": {
            "image/png": "[encoded data removed]",
            "text/plain": [
              "<PIL.Image.Image image mode=RGB size=256x256>"
            ]
          },
          "metadata": {},
          "output_type": "display_data"
        }
      ],
      "source": [
        "env.reset()\n",
        "display(Image.fromarray(env.render()))"
      ]
    },
    {
      "cell_type": "markdown",
      "id": "obvious-implementation",
      "metadata": {
        "id": "obvious-implementation"
      },
      "source": [
        "# Part 2 - Model-Free Control\n",
        "\n",
        "Recall that in Part 1 you implemented Policy Iteration with Policy Evaluation and Policy Improvement. However this required knowledge of the model (i.e. `env.P`). In this section we study methods that do not require knowing the model."
      ]
    },
    {
      "cell_type": "markdown",
      "id": "expired-promotion",
      "metadata": {
        "id": "expired-promotion"
      },
      "source": [
        "# Q-Learning\n",
        "* In this part you will implement Q-Learning with epsilon-greedy exploration to find the optimal policy.  \n",
        "  * You can experiment with fixed and adaptive learning rate and epsilon\n",
        "  * Report your best result and mention the differences you observed in answer to final questions\n"
      ]
    },
    {
      "cell_type": "code",
      "execution_count": 11,
      "id": "focal-capability",
      "metadata": {
        "id": "focal-capability"
      },
      "outputs": [],
      "source": [
        "# Initialize Running Parameters. \n",
        "# You should try to maintain the *number of episodes* and *max length of episode* at these numbers for your final results\n",
        "# However feel free to modify them for debugging purposes\n",
        "num_episodes       = 5000\n",
        "episode_max_length = 100\n",
        "\n",
        "# initialize discount factor and learning rate\n",
        "gamma     = 0.95\n",
        "learnRate = 0.8\n",
        "\n",
        "#create Q table\n",
        "Q=np.zeros([env.observation_space.n,env.action_space.n]) #matrix Q[s,a]\n",
        "\n",
        "reward_of_episodes = [] # list containing total reward of each episode (these rewards don't need to be discounted)\n",
        "epsilon = 0.5\n",
        "#execute in episodes\n",
        "for episode in range(num_episodes):\n",
        "    \n",
        "    # reset the environment at the beginning of an episode\n",
        "    state = env.reset()[0]\n",
        "    total_reward = 0\n",
        "    \n",
        "    \n",
        "    for t_sf in range(episode_max_length):\n",
        "        \n",
        "        ########### SELECT ACTION a for your current state using Q-values ##################\n",
        "        \n",
        "        if np.random.rand() < epsilon:\n",
        "            action = env.action_space.sample()\n",
        "        else:\n",
        "            action = np.argmax(Q[state,:])\n",
        "        # new state, reward, done\n",
        "        newstate, reward, finished, _, _ = env.step(action)       \n",
        "        total_reward += reward\n",
        "\n",
        "        ##### update Q(state,action) ############\n",
        "        Q[state, action] += learnRate*(reward + gamma*np.max(Q[newstate, :]) - Q[state, action])\n",
        "        \n",
        "        # stop if we have reached terminal state \n",
        "        if finished:\n",
        "            break\n",
        "        # update state\n",
        "        state=newstate  \n",
        "    reward_of_episodes.append(total_reward)\n",
        "    learnRate /= 1.001\n",
        "    epsilon /= 1.001"
      ]
    },
    {
      "cell_type": "markdown",
      "id": "unnecessary-relations",
      "metadata": {
        "id": "unnecessary-relations"
      },
      "source": [
        "- Construct `reward_of_episodes`, a list with the total rewards of each episode (these rewards do not need to be discounted)\n",
        "- Plot the moving average of the list\n",
        "- Ideally you want to achieve a reward greater than 0.7 (the problem is technically considered solved for 0.78)"
      ]
    },
    {
      "cell_type": "code",
      "execution_count": 12,
      "id": "answering-boards",
      "metadata": {
        "id": "answering-boards"
      },
      "outputs": [],
      "source": [
        "# You don't need to change the code here.\n",
        "# you can use this function to plot the moving average of a list\n",
        "from numpy import convolve, ones\n",
        "def movingaverage(interval, window_size):\n",
        "    window= np.ones(int(window_size))/float(window_size)\n",
        "    return np.convolve(interval, window, 'valid')\n",
        "from pylab import plot"
      ]
    },
    {
      "cell_type": "code",
      "execution_count": 13,
      "id": "uKZpBQq9ywSe",
      "metadata": {
        "id": "uKZpBQq9ywSe"
      },
      "outputs": [
        {
          "data": {
            "text/plain": [
              "[<matplotlib.lines.Line2D at 0x131729b50>]"
            ]
          },
          "execution_count": 13,
          "metadata": {},
          "output_type": "execute_result"
        },
        {
          "data": {
            "image/png": "[encoded data removed]",
            "text/plain": [
              "<Figure size 640x480 with 1 Axes>"
            ]
          },
          "metadata": {},
          "output_type": "display_data"
        }
      ],
      "source": [
        "# Plot the moving average of total undiscounted reward across episodes here\n",
        "rm=movingaverage(reward_of_episodes, 500)\n",
        "plot(rm)"
      ]
    },
    {
      "cell_type": "markdown",
      "id": "sexual-aviation",
      "metadata": {
        "id": "sexual-aviation"
      },
      "source": [
        "#  SARSA\n",
        "\n",
        "- In the following you will implement SARSA with epsilon-greedy exploration.  \n",
        "    - You can experiment with fixed and adaptive learning rate and epsilon\n",
        "    - Report your best result and mention the differences you observed in answer to final questions"
      ]
    },
    {
      "cell_type": "code",
      "execution_count": 9,
      "id": "careful-quick",
      "metadata": {
        "id": "careful-quick"
      },
      "outputs": [],
      "source": [
        "#initialize episodic structure - again try to maintain these two parameters as they are for your final submission\n",
        "num_episodes=5000;\n",
        "episode_max_length=100;\n",
        "\n",
        "#initialize discount factor, learning rate\n",
        "gamma=0.95\n",
        "learnRate=0.8\n",
        "epsilon = 0.5\n",
        "#create Q table\n",
        "Q=np.zeros([env.observation_space.n, env.action_space.n]) #matrix Q[s,a]\n",
        "\n",
        "reward_of_episodes = [] # list containing total reward of each episode\n",
        "def epsilon_greedy_policy(state, epsilon):\n",
        "    if np.random.rand() < epsilon:\n",
        "        action = env.action_space.sample()\n",
        "    else:\n",
        "        action = np.argmax(Q[state,:])\n",
        "    return action\n",
        "\n",
        "#execute in episodes\n",
        "for episode in range(num_episodes):\n",
        "    \n",
        "    # reset the environment at the beginning of an episode \n",
        "    # and other possible initializations here\n",
        "    \n",
        "    state = env.reset()[0]\n",
        "    action = epsilon_greedy_policy(state, epsilon)\n",
        "    total_reward = 0\n",
        "   \n",
        "    for t in range(episode_max_length):\n",
        "        # take an action `action` and observe the next state ...\n",
        "        newstate, reward, finished, _, _ = env.step(action)       \n",
        "        total_reward += reward\n",
        "        if finished:\n",
        "            newq = 0\n",
        "        else:\n",
        "            newaction = epsilon_greedy_policy(newstate, epsilon)\n",
        "            newq = Q[newstate, newaction]\n",
        "        \n",
        "        Q[state, action] += learnRate*(reward + gamma*newq - Q[state, action])\n",
        "\n",
        "        if finished:\n",
        "            break\n",
        "        state = newstate\n",
        "        action = newaction\n",
        "    reward_of_episodes.append(total_reward)\n",
        "    epsilon /= 1.001\n",
        "    learnRate /= 1.001\n",
        "    "
      ]
    },
    {
      "cell_type": "code",
      "execution_count": 10,
      "id": "complete-absence",
      "metadata": {
        "id": "complete-absence"
      },
      "outputs": [
        {
          "data": {
            "text/plain": [
              "[<matplotlib.lines.Line2D at 0x1316af520>]"
            ]
          },
          "execution_count": 10,
          "metadata": {},
          "output_type": "execute_result"
        },
        {
          "data": {
            "image/png": "[encoded data removed]",
            "text/plain": [
              "<Figure size 640x480 with 1 Axes>"
            ]
          },
          "metadata": {},
          "output_type": "display_data"
        }
      ],
      "source": [
        "# Plot the moving average of total reward across episodes here\n",
        "rm=movingaverage(reward_of_episodes, 500)\n",
        "plot(rm)"
      ]
    },
    {
      "attachments": {},
      "cell_type": "markdown",
      "id": "beautiful-australian",
      "metadata": {
        "id": "beautiful-australian"
      },
      "source": [
        "#### How do your algorithms perform for different values of epsilon? Adaptive methods vs Fixed methods?\n",
        "The algorithms do much better with adaptive epsilon. I go from about 0.3 to 0.7 moving average. For fixed methods, when you increase epsilong too high Sarsa does not learn anything and Q may learn less.\n",
        "\n",
        "#### How do your algorithms perform for different values of the learning rate? Adaptive methods vs Fixed methods?\n",
        "In both algorithms, adaptive learning rate is much better than fixed learning rate. I decrease by a factor of 0.001 every episode.\n",
        "\n",
        "#### With a fixed epsilon and under identical learning rate rules and gamma value, compare the performance of Q-learning and SARSA. \n",
        "I left my graphs of my best results up but when I ran a test with constant epsilong 0.2 for both sarsa and Q I got a moving average of that ended up between 0.25 and 0.3 for both."
      ]
    }
  ],
  "metadata": {
    "colab": {
      "provenance": []
    },
    "kernelspec": {
      "display_name": "Python 3",
      "language": "python",
      "name": "python3"
    },
    "language_info": {
      "codemirror_mode": {
        "name": "ipython",
        "version": 3
      },
      "file_extension": ".py",
      "mimetype": "text/x-python",
      "name": "python",
      "nbconvert_exporter": "python",
      "pygments_lexer": "ipython3",
      "version": "3.8.9"
    },
    "vscode": {
      "interpreter": {
        "hash": "31f2aee4e71d21fbe5cf8b01ff0e069b9275f58929596ceb00d14d90e3e16cd6"
      }
    }
  },
  "nbformat": 4,
  "nbformat_minor": 5
}
