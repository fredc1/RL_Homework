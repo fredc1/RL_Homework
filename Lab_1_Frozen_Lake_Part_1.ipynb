{
  "cells": [
    {
      "cell_type": "markdown",
      "id": "auburn-pittsburgh",
      "metadata": {
        "id": "auburn-pittsburgh",
        "tags": []
      },
      "source": [
        "# Lab 1 - FrozenLake MDP: Part 1\n",
        "# Assignment\n",
        "\n",
        "- In this assignment you will learn how to tackle problems with limited state spaces.\n",
        "- In particular we consider the FrozenLake MDP problem.\n",
        "\n",
        "# Outline\n",
        "\n",
        "- Part 0 introduces us to [gym](https://gymnasium.farama.org/), an environment that allows us to test our reinforcement learning algorithms in various problems\n",
        "- In Part 1, you will implement a policy iteration algorithm (HW1)\n",
        "- In Part 2, you will implement Q-Learning and SARSA (in next homework HW2) \n",
        "\n",
        "# Deliverable\n",
        "\n",
        "Regarding the Lab:\n",
        "\n",
        "- Make sure your code runs from top to bottom without any errors.\n",
        "- Your submitted Notebook must contain saved outputs."
      ]
    },
    {
      "cell_type": "code",
      "execution_count": 1,
      "id": "flush-grove",
      "metadata": {
        "id": "flush-grove"
      },
      "outputs": [
        {
          "name": "stdout",
          "output_type": "stream",
          "text": [
            "Defaulting to user installation because normal site-packages is not writeable\n",
            "Requirement already satisfied: gymnasium in /Users/frederickcunningham/Library/Python/3.8/lib/python/site-packages (0.27.1)\n",
            "Requirement already satisfied: importlib-metadata>=4.8.0 in /Users/frederickcunningham/Library/Python/3.8/lib/python/site-packages (from gymnasium) (4.12.0)\n",
            "Requirement already satisfied: cloudpickle>=1.2.0 in /Users/frederickcunningham/Library/Python/3.8/lib/python/site-packages (from gymnasium) (2.2.1)\n",
            "Requirement already satisfied: typing-extensions>=4.3.0 in /Users/frederickcunningham/Library/Python/3.8/lib/python/site-packages (from gymnasium) (4.4.0)\n",
            "Requirement already satisfied: gymnasium-notices>=0.0.1 in /Users/frederickcunningham/Library/Python/3.8/lib/python/site-packages (from gymnasium) (0.0.1)\n",
            "Requirement already satisfied: jax-jumpy>=0.2.0 in /Users/frederickcunningham/Library/Python/3.8/lib/python/site-packages (from gymnasium) (0.2.0)\n",
            "Requirement already satisfied: numpy>=1.21.0 in /Users/frederickcunningham/Library/Python/3.8/lib/python/site-packages (from gymnasium) (1.23.3)\n",
            "Requirement already satisfied: zipp>=0.5 in /Users/frederickcunningham/Library/Python/3.8/lib/python/site-packages (from importlib-metadata>=4.8.0->gymnasium) (3.8.1)\n",
            "\n",
            "\u001b[1m[\u001b[0m\u001b[34;49mnotice\u001b[0m\u001b[1;39;49m]\u001b[0m\u001b[39;49m A new release of pip available: \u001b[0m\u001b[31;49m22.3.1\u001b[0m\u001b[39;49m -> \u001b[0m\u001b[32;49m23.0\u001b[0m\n",
            "\u001b[1m[\u001b[0m\u001b[34;49mnotice\u001b[0m\u001b[1;39;49m]\u001b[0m\u001b[39;49m To update, run: \u001b[0m\u001b[32;49m/Library/Developer/CommandLineTools/usr/bin/python3 -m pip install --upgrade pip\u001b[0m\n",
            "Defaulting to user installation because normal site-packages is not writeable\n",
            "Requirement already satisfied: pygame in /Users/frederickcunningham/Library/Python/3.8/lib/python/site-packages (2.1.2)\n",
            "\n",
            "\u001b[1m[\u001b[0m\u001b[34;49mnotice\u001b[0m\u001b[1;39;49m]\u001b[0m\u001b[39;49m A new release of pip available: \u001b[0m\u001b[31;49m22.3.1\u001b[0m\u001b[39;49m -> \u001b[0m\u001b[32;49m23.0\u001b[0m\n",
            "\u001b[1m[\u001b[0m\u001b[34;49mnotice\u001b[0m\u001b[1;39;49m]\u001b[0m\u001b[39;49m To update, run: \u001b[0m\u001b[32;49m/Library/Developer/CommandLineTools/usr/bin/python3 -m pip install --upgrade pip\u001b[0m\n"
          ]
        }
      ],
      "source": [
        "import os\n",
        "# You will need numpy and gym. You can try running the following lines to install them\n",
        "# The assignment is tested on Python3.8 so in case you are having installation issues you might \n",
        "# want to try installing that version. \n",
        "\n",
        "# !{os.sys.executable} -m pip install numpy\n",
        "!{os.sys.executable} -m pip install gymnasium\n",
        "! pip install pygame\n",
        "# !{os.sys.executable} -m pip install Pillow\n",
        "# !{os.sys.executable} -m pip install ipython\n",
        "#!{os.sys.executable} -m pip install pygame\n",
        "import gymnasium as gym\n",
        "import numpy as np\n",
        "from PIL import Image\n",
        "from IPython.display import display"
      ]
    },
    {
      "cell_type": "markdown",
      "id": "medium-dancing",
      "metadata": {
        "id": "medium-dancing"
      },
      "source": [
        "# Part 0 - Introduction to Gym\n",
        "- We look at [FrozenLake-v1 environment](https://gymnasium.farama.org/environments/toy_text/frozen_lake/) in gym. \n",
        "- You don't need to write any code for this part\n",
        "- you should still understand the code to help you solve Part 1 and Part 2"
      ]
    },
    {
      "cell_type": "code",
      "execution_count": 2,
      "id": "considerable-swing",
      "metadata": {
        "id": "considerable-swing"
      },
      "outputs": [
        {
          "name": "stdout",
          "output_type": "stream",
          "text": [
            "Number of States 16, Number of Actions 4\n",
            "Reward range (0, 1)\n"
          ]
        }
      ],
      "source": [
        "# Import the environment we will use in this assignment\n",
        "env=gym.make('FrozenLake-v1',is_slippery=True, render_mode=\"rgb_array\") \n",
        "\n",
        "# Show the model\n",
        "print(f\"Number of States {env.observation_space.n}, Number of Actions {env.action_space.n}\")\n",
        "print(f\"Reward range {env.reward_range}\")"
      ]
    },
    {
      "cell_type": "code",
      "execution_count": 3,
      "id": "severe-conjunction",
      "metadata": {
        "id": "severe-conjunction"
      },
      "outputs": [
        {
          "data": {
            "text/plain": [
              "(0, {'prob': 1})"
            ]
          },
          "execution_count": 3,
          "metadata": {},
          "output_type": "execute_result"
        }
      ],
      "source": [
        "env.reset() # reset the environment "
      ]
    },
    {
      "cell_type": "code",
      "execution_count": 4,
      "id": "endless-cassette",
      "metadata": {
        "id": "endless-cassette"
      },
      "outputs": [
        {
          "data": {
            "image/png": "[encoded data removed]",
            "text/plain": [
              "<PIL.Image.Image image mode=RGB size=256x256>"
            ]
          },
          "metadata": {},
          "output_type": "display_data"
        }
      ],
      "source": [
        "# visualize the current state\n",
        "display(Image.fromarray(env.render()))"
      ]
    },
    {
      "cell_type": "code",
      "execution_count": 5,
      "id": "naughty-bread",
      "metadata": {
        "id": "naughty-bread"
      },
      "outputs": [
        {
          "name": "stdout",
          "output_type": "stream",
          "text": [
            "Render State after 25 slots\n"
          ]
        },
        {
          "data": {
            "image/png": "[encoded data removed]",
            "text/plain": [
              "<PIL.Image.Image image mode=RGB size=256x256>"
            ]
          },
          "metadata": {},
          "output_type": "display_data"
        },
        {
          "name": "stdout",
          "output_type": "stream",
          "text": [
            "Reached terminal state? True\n"
          ]
        }
      ],
      "source": [
        "# run a policy that chooses actions randomly \n",
        "env.reset()\n",
        "n = 25\n",
        "for i in range(n):\n",
        "    a = env.action_space.sample() # Sample Random Action\n",
        "    state, reward, finished, _, _ = env.step(a)\n",
        "    if finished: break\n",
        "        \n",
        "print(f'Render State after {n} slots')\n",
        "display(Image.fromarray(env.render()))\n",
        "print(f'Reached terminal state? {finished}')"
      ]
    },
    {
      "cell_type": "code",
      "execution_count": 6,
      "id": "front-nomination",
      "metadata": {
        "id": "front-nomination"
      },
      "outputs": [
        {
          "data": {
            "image/png": "[encoded data removed]",
            "text/plain": [
              "<PIL.Image.Image image mode=RGB size=256x256>"
            ]
          },
          "metadata": {},
          "output_type": "display_data"
        }
      ],
      "source": [
        "env.reset() # Let's reset the state again\n",
        "display(Image.fromarray(env.render()))"
      ]
    },
    {
      "cell_type": "markdown",
      "id": "official-china",
      "metadata": {
        "id": "official-china"
      },
      "source": [
        "# Part 1 - MDP and Planning: Implement Policy Iteration \n",
        "- In this part we will focus on methods that assume knowledge of the enivonment dynamics, in partucular you will implement Policy Iteration. \n",
        "- The environment model can be obtained through `env.P`"
      ]
    },
    {
      "cell_type": "code",
      "execution_count": 7,
      "id": "spanish-feeding",
      "metadata": {
        "colab": {
          "base_uri": "https://localhost:8080/"
        },
        "id": "spanish-feeding",
        "outputId": "2e26aa49-47dc-43d1-eee4-172e0be93f6f"
      },
      "outputs": [
        {
          "data": {
            "text/plain": [
              "[(0.3333333333333333, 0, 0.0, False),\n",
              " (0.3333333333333333, 4, 0.0, False),\n",
              " (0.3333333333333333, 8, 0.0, False)]"
            ]
          },
          "execution_count": 7,
          "metadata": {},
          "output_type": "execute_result"
        }
      ],
      "source": [
        "# No need to change anything here. Try to understand what happens \n",
        "\n",
        "# let's look at a random state-action pair and observe its transition characteristics\n",
        "# you can re-run this cell to get a different state-action pair\n",
        "random_state  = env.observation_space.sample()\n",
        "random_action = env.action_space.sample()\n",
        "# returns a list of tuples (probability,newstate,reward,is_terminal_state)\n",
        "env.P[random_state][random_action] "
      ]
    },
    {
      "cell_type": "code",
      "execution_count": 8,
      "id": "lucky-place",
      "metadata": {
        "id": "lucky-place"
      },
      "outputs": [
        {
          "name": "stdout",
          "output_type": "stream",
          "text": [
            "Terminal States: {5, 7, 11, 12, 15}\n"
          ]
        }
      ],
      "source": [
        "############################\n",
        "# YOUR CODE HERE #\n",
        "# Print all the terminal states in the environment.\n",
        "# you can use env.P\n",
        "############################\n",
        "terminal_state = []\n",
        "for state in env.P:\n",
        "    for action in env.P[state]:\n",
        "        for p in env.P[state][action]:\n",
        "            pr, s, r, t = p\n",
        "            if t:\n",
        "                terminal_state.append(s)\n",
        "print(f\"Terminal States: {set(terminal_state)}\")"
      ]
    },
    {
      "cell_type": "code",
      "execution_count": 9,
      "id": "rocky-danger",
      "metadata": {
        "id": "rocky-danger"
      },
      "outputs": [
        {
          "data": {
            "image/png": "[encoded data removed]",
            "text/plain": [
              "<PIL.Image.Image image mode=RGB size=256x256>"
            ]
          },
          "metadata": {},
          "output_type": "display_data"
        }
      ],
      "source": [
        "# Verify your solution (look at the positions where final states are)\n",
        "display(Image.fromarray(env.render()))"
      ]
    },
    {
      "cell_type": "markdown",
      "id": "protective-pendant",
      "metadata": {
        "id": "protective-pendant"
      },
      "source": [
        "\n",
        "### Step A: Implement Policy Evaluation\n"
      ]
    },
    {
      "cell_type": "code",
      "execution_count": 10,
      "id": "forty-offering",
      "metadata": {
        "id": "forty-offering"
      },
      "outputs": [],
      "source": [
        "def policy_evaluation(P, nS, nA, policy, gamma=0.9, tol=1e-3):\n",
        "    \"\"\"Evaluate the value function from a given policy.\n",
        "\n",
        "    Parameters\n",
        "    ----------\n",
        "    P, nS, nA, gamma:\n",
        "        defined at beginning of file\n",
        "    policy: np.array[nS]\n",
        "        The policy to evaluate. Maps states to actions.\n",
        "    tol: float\n",
        "        Terminate policy evaluation when\n",
        "            max |value_function(s) - prev_value_function(s)| < tol\n",
        "    Returns\n",
        "    -------\n",
        "    value_function: np.ndarray[nS]\n",
        "        The value function of the given policy, where value_function[s] is\n",
        "        the value of state s\n",
        "    \"\"\"\n",
        "\n",
        "    value_function = np.zeros(nS)\n",
        "\n",
        "    while True:\n",
        "        prev_value_function = np.copy(value_function)\n",
        "        for s in range(nS):\n",
        "            v = 0\n",
        "            action = policy[s]\n",
        "            for prob, next_state, reward, done in P[s][action]:\n",
        "                v += prob * (reward + gamma * prev_value_function[next_state])\n",
        "            value_function[s] = v\n",
        "\n",
        "        if np.max(np.abs(prev_value_function - value_function)) < tol:\n",
        "            break\n",
        "    return value_function"
      ]
    },
    {
      "cell_type": "markdown",
      "id": "stunning-property",
      "metadata": {
        "id": "stunning-property"
      },
      "source": [
        "#### Evaluate random policies"
      ]
    },
    {
      "cell_type": "code",
      "execution_count": 11,
      "id": "naked-tooth",
      "metadata": {
        "id": "naked-tooth"
      },
      "outputs": [
        {
          "name": "stdout",
          "output_type": "stream",
          "text": [
            "-------- Policy 0 ------------------------------\n",
            "[0. 0. 0. 0. 0. 0. 0. 0. 0. 0. 0. 0. 0. 0. 0. 0.]\n",
            "-------- Policy 1 ------------------------------\n",
            "[3.41177670e-03 7.83678510e-03 2.37008952e-02 9.66573270e-03\n",
            " 1.20659220e-03 0.00000000e+00 4.92505518e-02 0.00000000e+00\n",
            " 3.76236900e-04 4.24072722e-02 1.41335631e-01 0.00000000e+00\n",
            " 0.00000000e+00 1.79408799e-02 3.80992284e-01 0.00000000e+00]\n",
            "-------- Policy 2 ------------------------------\n",
            "[0.00616642 0.01070589 0.02648617 0.01070589 0.00219176 0.\n",
            " 0.06908584 0.         0.00061287 0.12277718 0.20538643 0.\n",
            " 0.         0.20538643 0.56353501 0.        ]\n",
            "-------- Policy 3 ------------------------------\n",
            "[0.         0.         0.         0.         0.00759102 0.\n",
            " 0.05446833 0.         0.026012   0.06205935 0.18214502 0.\n",
            " 0.         0.026012   0.55369869 0.        ]\n",
            "-------- Policy 4 ------------------------------\n",
            "[9.44352594e-03 2.77338330e-03 8.17908840e-04 2.44244160e-04\n",
            " 1.47702760e-02 0.00000000e+00 1.92937140e-04 0.00000000e+00\n",
            " 4.11169680e-02 1.23239335e-01 2.05938665e-01 0.00000000e+00\n",
            " 0.00000000e+00 2.05896018e-01 5.64018425e-01 0.00000000e+00]\n"
          ]
        }
      ],
      "source": [
        "# Test your policy_evaluation on 5 randomly generated deterministic policies\n",
        "# print the value function of the policies\n",
        "\n",
        "\n",
        "ns = env.observation_space.n\n",
        "na = env.action_space.n\n",
        "for i in range(5):\n",
        "    random_policy = np.random.randint(na, size=ns)\n",
        "    print(f'-------- Policy {i}','-'*30)\n",
        "    print(policy_evaluation(env.P, ns, na, random_policy))\n",
        "\n"
      ]
    },
    {
      "cell_type": "markdown",
      "id": "ongoing-evaluation",
      "metadata": {
        "id": "ongoing-evaluation"
      },
      "source": [
        "### Step B: Implement Policy Improvement"
      ]
    },
    {
      "cell_type": "code",
      "execution_count": 12,
      "id": "cooperative-dressing",
      "metadata": {
        "id": "cooperative-dressing"
      },
      "outputs": [],
      "source": [
        "def policy_improvement(P, nS, nA, value_from_policy, policy, gamma=0.9):\n",
        "    \"\"\"\n",
        "    Given the value function from policy improve the policy.\n",
        "\n",
        "    Parameters\n",
        "    ----------\n",
        "    P, nS, nA, gamma:\n",
        "        defined at beginning of file\n",
        "    value_from_policy: np.ndarray\n",
        "        The value calculated from the policy\n",
        "    policy: np.array\n",
        "        The previous policy.\n",
        "\n",
        "    Returns\n",
        "    -------\n",
        "    new_policy: np.ndarray[nS]\n",
        "        An array of integers. Each integer is the optimal action to take\n",
        "        in that state according to the environment dynamics and the\n",
        "        given value function.\n",
        "    \"\"\"\n",
        "    new_policy = np.zeros(nS, dtype='int')\n",
        "    new_policy = np.zeros(nS, dtype='int')\n",
        "    for s in range(nS):\n",
        "        q_values = np.zeros(nA)\n",
        "        for a in range(nA):\n",
        "            for prob, next_state, reward, done in P[s][a]:\n",
        "                q_values[a] += prob * (reward + gamma * value_from_policy[next_state])\n",
        "        new_policy[s] = np.argmax(q_values)\n",
        "    return new_policy"
      ]
    },
    {
      "cell_type": "code",
      "execution_count": 13,
      "id": "behavioral-penetration",
      "metadata": {
        "id": "behavioral-penetration"
      },
      "outputs": [
        {
          "name": "stdout",
          "output_type": "stream",
          "text": [
            "-------- Policy 0 ------------------------------\n",
            "[3.59623800e-03 8.74891800e-03 2.71152180e-02 1.08672300e-02\n",
            " 1.16445600e-03 0.00000000e+00 5.44683270e-02 0.00000000e+00\n",
            " 3.13470000e-04 5.45230020e-02 1.82151580e-01 0.00000000e+00\n",
            " 0.00000000e+00 2.30492610e-02 5.53698691e-01 0.00000000e+00]\n",
            "-------> Policy 0 IMPROVED ---------------------\n",
            "[0.02544746 0.03629475 0.06140948 0.04450216 0.06166765 0.\n",
            " 0.10051655 0.         0.12096546 0.22295813 0.27473218 0.\n",
            " 0.         0.34933607 0.59361435 0.        ]\n",
            "\n",
            "-------- Policy 1 ------------------------------\n",
            "[0.         0.         0.         0.         0.00574852 0.\n",
            " 0.05446833 0.         0.01959475 0.06021684 0.18214502 0.\n",
            " 0.         0.02534326 0.55369869 0.        ]\n",
            "-------> Policy 1 IMPROVED ---------------------\n",
            "[0.05774564 0.0241544  0.05189282 0.02200123 0.07964486 0.\n",
            " 0.09799433 0.         0.13050449 0.22681009 0.27540565 0.\n",
            " 0.         0.35139876 0.59403406 0.        ]\n",
            "\n",
            "-------- Policy 2 ------------------------------\n",
            "[0. 0. 0. 0. 0. 0. 0. 0. 0. 0. 0. 0. 0. 0. 0. 0.]\n",
            "-------> Policy 2 IMPROVED ---------------------\n",
            "[0.         0.         0.02264904 0.00907875 0.         0.\n",
            " 0.05415996 0.         0.         0.         0.15891205 0.\n",
            " 0.         0.         0.4761811  0.        ]\n",
            "\n",
            "-------- Policy 3 ------------------------------\n",
            "[0.00762825 0.01072074 0.01945944 0.0080597  0.00970028 0.\n",
            " 0.03825304 0.         0.01723779 0.04939468 0.1277601  0.\n",
            " 0.         0.02069422 0.37768481 0.        ]\n",
            "-------> Policy 3 IMPROVED ---------------------\n",
            "[0.05271936 0.04894043 0.06382628 0.04637934 0.07672752 0.\n",
            " 0.10177674 0.         0.12896669 0.2265144  0.27645814 0.\n",
            " 0.         0.35128582 0.59440135 0.        ]\n",
            "\n",
            "-------- Policy 4 ------------------------------\n",
            "[0. 0. 0. 0. 0. 0. 0. 0. 0. 0. 0. 0. 0. 0. 0. 0.]\n",
            "-------> Policy 4 IMPROVED ---------------------\n",
            "[0.         0.         0.02264904 0.00907875 0.         0.\n",
            " 0.05415996 0.         0.         0.         0.15891205 0.\n",
            " 0.         0.         0.4761811  0.        ]\n",
            "\n"
          ]
        }
      ],
      "source": [
        "# Print the value before and after policy improvements for 5 randomly generated policies\n",
        "\n",
        "ns = env.observation_space.n\n",
        "na = env.action_space.n\n",
        "for i in range(5):\n",
        "    random_policy = np.random.randint(na, size=ns)\n",
        "    print(f'-------- Policy {i}','-'*30)\n",
        "    value_from_policy = policy_evaluation(env.P, ns, na, random_policy)\n",
        "    print(value_from_policy)\n",
        "    print(f'-------> Policy {i} IMPROVED','-'*21)\n",
        "    random_policy = policy_improvement(env.P, ns, na, value_from_policy, random_policy)\n",
        "    print(policy_evaluation(env.P, ns, na, random_policy))\n",
        "    print()\n",
        "\n"
      ]
    },
    {
      "cell_type": "markdown",
      "id": "independent-tragedy",
      "metadata": {
        "id": "independent-tragedy"
      },
      "source": [
        "### Step C: Implement Policy Iteration"
      ]
    },
    {
      "cell_type": "code",
      "execution_count": 14,
      "id": "ranking-template",
      "metadata": {
        "id": "ranking-template"
      },
      "outputs": [],
      "source": [
        "def policy_iteration(P, nS, nA, gamma=0.9, tol=1e-3):\n",
        "    \"\"\" \n",
        "    Run policy iteration for dynamics of P.\n",
        "\n",
        "    You should use your methods: policy_evaluation() and policy_improvement() here\n",
        "\n",
        "    Parameters: \n",
        "    P, nS, nA, gamma: defined at beginning of file\n",
        "    tolerance:        tolerance parameter used in policy_evaluation()\n",
        "    \n",
        "    Returns: \n",
        "    value_function: np.ndarray[nS]\n",
        "    policy:         np.ndarray[nS]\n",
        "    \"\"\"\n",
        "\n",
        "    value_function = np.zeros(nS)\n",
        "    policy = np.zeros(nS, dtype=int)\n",
        "\n",
        "    while True:\n",
        "        value_function = policy_evaluation(P, nS, nA, policy, gamma, tol)\n",
        "        new_policy = policy_improvement(P, nS, nA, value_function, policy, gamma)\n",
        "\n",
        "        if (new_policy == policy).all():\n",
        "            break\n",
        "\n",
        "        policy = new_policy\n",
        "    return value_function, policy"
      ]
    },
    {
      "cell_type": "markdown",
      "id": "individual-cookie",
      "metadata": {
        "id": "individual-cookie"
      },
      "source": [
        "#### Call your function for gamma=0.9 and gamma=0.6"
      ]
    },
    {
      "cell_type": "code",
      "execution_count": 15,
      "id": "subsequent-tonight",
      "metadata": {
        "colab": {
          "base_uri": "https://localhost:8080/"
        },
        "id": "subsequent-tonight",
        "outputId": "553e23e6-b35a-4ece-f4b6-9c8a629a11ae"
      },
      "outputs": [
        {
          "data": {
            "text/plain": [
              "(array([0.06237625, 0.05593278, 0.07041162, 0.05147676, 0.08589466,\n",
              "        0.        , 0.11002402, 0.        , 0.14055576, 0.24415129,\n",
              "        0.29725924, 0.        , 0.        , 0.37747618, 0.63771531,\n",
              "        0.        ]),\n",
              " array([0, 3, 0, 3, 0, 0, 0, 0, 3, 1, 0, 0, 0, 2, 1, 0]))"
            ]
          },
          "execution_count": 15,
          "metadata": {},
          "output_type": "execute_result"
        }
      ],
      "source": [
        "V_pi_s, p_pi_s = policy_iteration(env.P, env.observation_space.n, env.action_space.n, gamma=0.9, tol=1e-3)\n",
        "V_pi_s, p_pi_s"
      ]
    },
    {
      "cell_type": "code",
      "execution_count": 16,
      "id": "military-presence",
      "metadata": {
        "colab": {
          "base_uri": "https://localhost:8080/"
        },
        "id": "military-presence",
        "outputId": "5d54d198-f651-4bf2-9f1c-afe78c52fa23"
      },
      "outputs": [
        {
          "data": {
            "text/plain": [
              "(array([0.0008448 , 0.00139093, 0.0055168 , 0.00156587, 0.00286293,\n",
              "        0.        , 0.0214272 , 0.        , 0.0119808 , 0.0470272 ,\n",
              "        0.10272853, 0.        , 0.        , 0.12289707, 0.44699307,\n",
              "        0.        ]),\n",
              " array([2, 3, 2, 3, 0, 0, 0, 0, 3, 1, 0, 0, 0, 2, 1, 0]))"
            ]
          },
          "execution_count": 16,
          "metadata": {},
          "output_type": "execute_result"
        }
      ],
      "source": [
        "V_pi_f, p_pi_f = policy_iteration(env.P, env.observation_space.n, env.action_space.n, gamma=0.6, tol=1e-3)\n",
        "V_pi_f, p_pi_f"
      ]
    },
    {
      "cell_type": "markdown",
      "id": "fifth-unknown",
      "metadata": {
        "id": "fifth-unknown"
      },
      "source": [
        "#### What do you observe in terms of impact of gamma on the actions taken by the policy?"
      ]
    },
    {
      "attachments": {},
      "cell_type": "markdown",
      "id": "GGe3wwuEoKye",
      "metadata": {
        "id": "GGe3wwuEoKye"
      },
      "source": [
        "It appears that the actions are much more risky for gamma = 0.6. Actions 1 and 2 are more risky than actions 0 and 3 because the agent starts at the top left of the map so up and to the left (0, 3) represent safe choices, and down and to the right (1, 2) represent risky actions that travel into the unknown. This makes sense because gamma 0.9 would make the optimization more sensitive to the future where the costs for risk taking are paid."
      ]
    }
  ],
  "metadata": {
    "colab": {
      "provenance": []
    },
    "kernelspec": {
      "display_name": "Python 3",
      "language": "python",
      "name": "python3"
    },
    "language_info": {
      "codemirror_mode": {
        "name": "ipython",
        "version": 3
      },
      "file_extension": ".py",
      "mimetype": "text/x-python",
      "name": "python",
      "nbconvert_exporter": "python",
      "pygments_lexer": "ipython3",
      "version": "3.8.9"
    },
    "vscode": {
      "interpreter": {
        "hash": "31f2aee4e71d21fbe5cf8b01ff0e069b9275f58929596ceb00d14d90e3e16cd6"
      }
    }
  },
  "nbformat": 4,
  "nbformat_minor": 5
}
